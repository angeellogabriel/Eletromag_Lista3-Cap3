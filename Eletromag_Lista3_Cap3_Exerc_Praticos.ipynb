{
  "nbformat": 4,
  "nbformat_minor": 0,
  "metadata": {
    "colab": {
      "provenance": [],
      "authorship_tag": "ABX9TyMMJmPL62OUp/7hguiYa9C5",
      "include_colab_link": true
    },
    "kernelspec": {
      "name": "python3",
      "display_name": "Python 3"
    },
    "language_info": {
      "name": "python"
    }
  },
  "cells": [
    {
      "cell_type": "markdown",
      "metadata": {
        "id": "view-in-github",
        "colab_type": "text"
      },
      "source": [
        "<a href=\"https://colab.research.google.com/github/angeellogabriel/Eletromag_Lista3-Cap3/blob/main/Eletromag_Lista3_Cap3_Exerc_Praticos.ipynb\" target=\"_parent\"><img src=\"https://colab.research.google.com/assets/colab-badge.svg\" alt=\"Open In Colab\"/></a>"
      ]
    },
    {
      "cell_type": "code",
      "execution_count": null,
      "metadata": {
        "colab": {
          "base_uri": "https://localhost:8080/",
          "height": 37
        },
        "id": "BNYxBBPM3yo1",
        "outputId": "3f4e74b3-eb83-44fd-b5b4-04836bc2402e"
      },
      "outputs": [
        {
          "output_type": "execute_result",
          "data": {
            "text/plain": [
              "1.7154"
            ],
            "text/latex": "$\\displaystyle 1.7154$"
          },
          "metadata": {},
          "execution_count": 131
        }
      ],
      "source": [
        "#Exercicio Pratico 3.1\n",
        "#a)\n",
        "import sympy as sym\n",
        "\n",
        "r1, theta1, phi1 = sym.symbols('r1 theta1 phi1')\n",
        "r2, theta2, phi2 = sym.symbols('r2 theta2 phi2')\n",
        "\n",
        "#ponto A\n",
        "r1 = 3\n",
        "theta1 = sym.pi/3\n",
        "phi1 = sym.pi/4\n",
        "#ponto H\n",
        "r2 = 3\n",
        "theta2 = sym.pi/2\n",
        "phi2 = sym.pi/3\n",
        "#para a distancia\n",
        "d = sym.sqrt(r1**2 + r2**2 - 2*r1*r2*sym.cos(theta1-theta2)*sym.cos(phi1-phi2))\n",
        "\n",
        "d.simplify()\n",
        "d.evalf(5)"
      ]
    },
    {
      "cell_type": "code",
      "source": [
        "#b)\n",
        "import sympy as sp\n",
        "\n",
        "r, theta, phi = sp.symbols('r theta phi')\n",
        "\n",
        "F = sp.Matrix([3, 5*sp.sin(sp.pi/3), 5*sp.sin(sp.pi/4)])\n",
        "G = sp.Matrix([r, 5*sp.sin(theta), 5*sp.sin(phi)])\n",
        "\n",
        "FG = G - F\n",
        "dist_FG = FG.norm()\n",
        "dist_FG = dist_FG.subs([(r, 4), (theta, sp.pi/3), (phi, sp.pi/3)])\n",
        "dist_FG.evalf(5)\n"
      ],
      "metadata": {
        "colab": {
          "base_uri": "https://localhost:8080/",
          "height": 37
        },
        "id": "jb9WYEmf61HP",
        "outputId": "fe4b13a5-524f-483c-d469-33d9d3d076cb"
      },
      "execution_count": null,
      "outputs": [
        {
          "output_type": "execute_result",
          "data": {
            "text/plain": [
              "1.2773"
            ],
            "text/latex": "$\\displaystyle 1.2773$"
          },
          "metadata": {},
          "execution_count": 132
        }
      ]
    },
    {
      "cell_type": "code",
      "source": [
        "#c)\n",
        "import sympy as sp\n",
        "\n",
        "r, theta, phi = sp.symbols('r theta phi')\n",
        "\n",
        "A = (3, sp.pi/3, sp.pi/4)\n",
        "B = (3, sp.pi/3, sp.pi/3)\n",
        "C = (3, sp.pi/4, sp.pi/3)\n",
        "D = (3, sp.pi/4, sp.pi/4)\n",
        "E = (5, sp.pi/3, sp.pi/4)\n",
        "F = (5, sp.pi/3, sp.pi/3)\n",
        "G = (5, sp.pi/4, sp.pi/3)\n",
        "H = (5, sp.pi/4, sp.pi/4)\n",
        "\n",
        "dS = r**2*sp.sin(phi)*sp.diff(theta)*sp.diff(phi)\n",
        "\n",
        "#área da superfície AEFB\n",
        "area_AEFB = sp.integrate(dS.subs(r, 3).subs(phi, sp.pi/3).subs(theta, theta), (theta, sp.pi/4, sp.pi/3))\n",
        "\n",
        "#área da superfície ABCD\n",
        "area_ABCD = sp.integrate(dS.subs(r, 3).subs(phi, phi).subs(theta, sp.pi/4), (phi, sp.pi/4, sp.pi/3))\n",
        "\n",
        "#área da superfície AEDH\n",
        "area_AEDH = sp.integrate(dS.subs(r, r).subs(phi, phi).subs(theta, theta), (phi, sp.pi/4, sp.pi/3), (theta, sp.pi/4, sp.pi/3))\n",
        "\n",
        "#área da superfície AEHD\n",
        "area_AEHD = area_AEFB + area_ABCD + area_AEDH\n",
        "\n",
        "#substituindo os valores\n",
        "area_AEHD = area_AEHD.subs(r, 3).evalf()\n",
        "\n",
        "print(\"A área da superfície AEHD é:\")\n",
        "display(area_AEHD.evalf(5))\n"
      ],
      "metadata": {
        "colab": {
          "base_uri": "https://localhost:8080/",
          "height": 56
        },
        "id": "FMyPftPA7cyg",
        "outputId": "a8ec1874-e14d-4f8d-b652-95c2b61bf0a1"
      },
      "execution_count": null,
      "outputs": [
        {
          "output_type": "stream",
          "name": "stdout",
          "text": [
            "A área da superfície AEHD é:\n"
          ]
        },
        {
          "output_type": "display_data",
          "data": {
            "text/plain": [
              "4.3925"
            ],
            "text/latex": "$\\displaystyle 4.3925$"
          },
          "metadata": {}
        }
      ]
    },
    {
      "cell_type": "code",
      "source": [
        "#d)\n",
        "import sympy as sp\n",
        "\n",
        "r, theta, phi = sp.symbols('r theta phi')\n",
        "\n",
        "sup_r = r\n",
        "sup_theta = sp.pi/3\n",
        "sup_phi = sp.pi/4\n",
        "\n",
        "theta_lim = (sp.pi/3, sp.pi/2)\n",
        "phi_lim = (sp.pi/4, sp.pi/3)\n",
        "\n",
        "#para a área da superfície\n",
        "expr = sp.sqrt((r*sp.sin(theta))**2 + (sp.diff(r,phi))**2 + (sp.diff(r,theta)*(r*sp.cos(phi)))**2) * r**2 * sp.sin(theta)\n",
        "\n",
        "result = sp.integrate(expr, (phi, *phi_lim), (theta, *theta_lim), (r, 3, 5))\n",
        "\n",
        "(result.evalf())\n"
      ],
      "metadata": {
        "colab": {
          "base_uri": "https://localhost:8080/",
          "height": 37
        },
        "id": "2xh8C_pv8Kd_",
        "outputId": "e76cf62c-3d8b-4bc1-a5c1-b76dc0d5b9f9"
      },
      "execution_count": null,
      "outputs": [
        {
          "output_type": "execute_result",
          "data": {
            "text/plain": [
              "17.0299403434687"
            ],
            "text/latex": "$\\displaystyle 17.0299403434687$"
          },
          "metadata": {},
          "execution_count": 134
        }
      ]
    },
    {
      "cell_type": "code",
      "source": [
        "#e)\n",
        "import sympy as sp\n",
        "\n",
        "r, theta, phi = sp.symbols('r theta phi')\n",
        "f = r**2*sp.sin(theta)\n",
        "\n",
        "r_lim = (3, 5)\n",
        "theta_lim = (sp.pi/3, sp.pi/2)\n",
        "phi_lim = (sp.pi/4, sp.pi/3)\n",
        "\n",
        "result = sp.integrate(f*r**2*sp.sin(theta), (r, *r_lim), (theta, *theta_lim), (phi, *phi_lim))\n",
        "result.evalf(5)\n"
      ],
      "metadata": {
        "colab": {
          "base_uri": "https://localhost:8080/",
          "height": 37
        },
        "id": "KnUaquz_8-43",
        "outputId": "99225f1d-8660-4181-8059-539267daa6ed"
      },
      "execution_count": null,
      "outputs": [
        {
          "output_type": "execute_result",
          "data": {
            "text/plain": [
              "72.177"
            ],
            "text/latex": "$\\displaystyle 72.177$"
          },
          "metadata": {},
          "execution_count": 135
        }
      ]
    },
    {
      "cell_type": "code",
      "source": [
        "#Exercicio Pratico 3.3\n",
        "#a)\n",
        "import sympy as sp\n",
        "\n",
        "x, y, z = sp.symbols('x y z')\n",
        "U = x**2*y + x*y*z\n",
        "\n",
        "grad_U = sp.Matrix([sp.diff(U, var) for var in [x, y, z]])\n",
        "\n",
        "print('O gradiente de U é:')\n",
        "grad_U\n"
      ],
      "metadata": {
        "colab": {
          "base_uri": "https://localhost:8080/",
          "height": 96
        },
        "id": "EDVOpzI69gjP",
        "outputId": "3b9fd54a-95be-4e19-e3ae-b58cc16e5ea6"
      },
      "execution_count": null,
      "outputs": [
        {
          "output_type": "stream",
          "name": "stdout",
          "text": [
            "O gradiente de U é:\n"
          ]
        },
        {
          "output_type": "execute_result",
          "data": {
            "text/plain": [
              "Matrix([\n",
              "[2*x*y + y*z],\n",
              "[ x**2 + x*z],\n",
              "[        x*y]])"
            ],
            "text/latex": "$\\displaystyle \\left[\\begin{matrix}2 x y + y z\\\\x^{2} + x z\\\\x y\\end{matrix}\\right]$"
          },
          "metadata": {},
          "execution_count": 136
        }
      ]
    },
    {
      "cell_type": "code",
      "source": [
        "#b)\n",
        "import sympy as sp\n",
        "\n",
        "import sympy as sp\n",
        "\n",
        "# definir as variáveis\n",
        "rho, phi, z = sp.symbols('rho phi z')\n",
        "\n",
        "# definir o campo escalar V\n",
        "V = rho*z*sp.sin(phi) + z**2*sp.cos(phi)**2 + rho**2\n",
        "\n",
        "# calcular o gradiente\n",
        "grad_V = sp.Matrix([sp.diff(V, var) for var in (rho, phi, z)])\n",
        "\n",
        "grad_V *= sp.Matrix([1/rho, 1, 1]).T # ajuste para coordenadas esféricas\n",
        "\n",
        "print('O gradiente de V é: ')\n",
        "grad_V.simplify()\n",
        "grad_V\n",
        "\n"
      ],
      "metadata": {
        "colab": {
          "base_uri": "https://localhost:8080/",
          "height": 113
        },
        "id": "r8ws0N31-dh7",
        "outputId": "40869585-10db-4a1a-8e97-23e770e18ed0"
      },
      "execution_count": null,
      "outputs": [
        {
          "output_type": "stream",
          "name": "stdout",
          "text": [
            "O gradiente de V é: \n"
          ]
        },
        {
          "output_type": "execute_result",
          "data": {
            "text/plain": [
              "Matrix([\n",
              "[                 2 + z*sin(phi)/rho,              2*rho + z*sin(phi),              2*rho + z*sin(phi)],\n",
              "[z*(rho - 2*z*sin(phi))*cos(phi)/rho, z*(rho - 2*z*sin(phi))*cos(phi), z*(rho - 2*z*sin(phi))*cos(phi)],\n",
              "[     sin(phi) + 2*z*cos(phi)**2/rho,  rho*sin(phi) + 2*z*cos(phi)**2,  rho*sin(phi) + 2*z*cos(phi)**2]])"
            ],
            "text/latex": "$\\displaystyle \\left[\\begin{matrix}2 + \\frac{z \\sin{\\left(\\phi \\right)}}{\\rho} & 2 \\rho + z \\sin{\\left(\\phi \\right)} & 2 \\rho + z \\sin{\\left(\\phi \\right)}\\\\\\frac{z \\left(\\rho - 2 z \\sin{\\left(\\phi \\right)}\\right) \\cos{\\left(\\phi \\right)}}{\\rho} & z \\left(\\rho - 2 z \\sin{\\left(\\phi \\right)}\\right) \\cos{\\left(\\phi \\right)} & z \\left(\\rho - 2 z \\sin{\\left(\\phi \\right)}\\right) \\cos{\\left(\\phi \\right)}\\\\\\sin{\\left(\\phi \\right)} + \\frac{2 z \\cos^{2}{\\left(\\phi \\right)}}{\\rho} & \\rho \\sin{\\left(\\phi \\right)} + 2 z \\cos^{2}{\\left(\\phi \\right)} & \\rho \\sin{\\left(\\phi \\right)} + 2 z \\cos^{2}{\\left(\\phi \\right)}\\end{matrix}\\right]$"
          },
          "metadata": {},
          "execution_count": 137
        }
      ]
    },
    {
      "cell_type": "code",
      "source": [
        "#c)\n",
        "import sympy as sp\n",
        "\n",
        "r, theta, phi = sp.symbols('r theta phi')\n",
        "\n",
        "f = sp.cos(theta) * sp.sin(phi) * sp.ln(r) + r**2 * phi\n",
        "\n",
        "df_dr = sp.diff(f, r)\n",
        "df_dtheta = sp.diff(f, theta)\n",
        "df_dphi = sp.diff(f, phi)\n",
        "\n",
        "grad_f = sp.Matrix([df_dr, (1/r) * df_dtheta, (1/(r*sp.sin(theta))) * df_dphi])\n",
        "\n",
        "print('O gradiente de f é:')\n",
        "grad_f.simplify()\n",
        "grad_f"
      ],
      "metadata": {
        "colab": {
          "base_uri": "https://localhost:8080/",
          "height": 109
        },
        "id": "yRAKxqQsBIk4",
        "outputId": "473a62f0-39de-4e66-a1e1-1e8202c0ef96"
      },
      "execution_count": null,
      "outputs": [
        {
          "output_type": "stream",
          "name": "stdout",
          "text": [
            "O gradiente de f é:\n"
          ]
        },
        {
          "output_type": "execute_result",
          "data": {
            "text/plain": [
              "Matrix([\n",
              "[                   2*phi*r + sin(phi)*cos(theta)/r],\n",
              "[                     -log(r)*sin(phi)*sin(theta)/r],\n",
              "[(r**2 + log(r)*cos(phi)*cos(theta))/(r*sin(theta))]])"
            ],
            "text/latex": "$\\displaystyle \\left[\\begin{matrix}2 \\phi r + \\frac{\\sin{\\left(\\phi \\right)} \\cos{\\left(\\theta \\right)}}{r}\\\\- \\frac{\\log{\\left(r \\right)} \\sin{\\left(\\phi \\right)} \\sin{\\left(\\theta \\right)}}{r}\\\\\\frac{r^{2} + \\log{\\left(r \\right)} \\cos{\\left(\\phi \\right)} \\cos{\\left(\\theta \\right)}}{r \\sin{\\left(\\theta \\right)}}\\end{matrix}\\right]$"
          },
          "metadata": {},
          "execution_count": 138
        }
      ]
    },
    {
      "cell_type": "code",
      "source": [
        "#Exercicio Pratico 3.4\n",
        "\n",
        "import sympy as sp\n",
        "\n",
        "x, y, z = sp.symbols('x y z')\n",
        "\n",
        "phi = x*y + y*z + x*z\n",
        "\n",
        "dphidx = sp.diff(phi, x)\n",
        "dphidy = sp.diff(phi, y)\n",
        "dphidz = sp.diff(phi, z)\n",
        "\n",
        "#gradiente de Φ no ponto (1,2,3)\n",
        "grad_phi = sp.Matrix([dphidx, dphidy, dphidz])\n",
        "point = (1, 2, 3)\n",
        "grad_phi_ponto = grad_phi.subs([(x, point[0]), (y, point[1]), (z, point[2])])\n",
        "\n",
        "#vetor unitário no ponto (3,4,4)\n",
        "v = sp.Matrix([(3-1)/sp.sqrt((3-1)**2+(4-2)**2+(4-3)**2),\n",
        "               (4-2)/sp.sqrt((3-1)**2+(4-2)**2+(4-3)**2),\n",
        "               (4-3)/sp.sqrt((3-1)**2+(4-2)**2+(4-3)**2)])\n",
        "\n",
        "deriv_dir_phi = grad_phi_ponto.dot(v)\n",
        "\n",
        "print('O gradiente de Φ no ponto (1,2,3) é:', grad_phi_ponto)\n",
        "print('A derivada direcional de Φ no ponto (1,2,3) em direção ao ponto (3,4,4) é:', deriv_dir_phi.evalf(2))\n"
      ],
      "metadata": {
        "colab": {
          "base_uri": "https://localhost:8080/"
        },
        "id": "YKNZAl3tB3lI",
        "outputId": "4de3c629-c458-469a-bc4f-0492f28715db"
      },
      "execution_count": null,
      "outputs": [
        {
          "output_type": "stream",
          "name": "stdout",
          "text": [
            "O gradiente de Φ no ponto (1,2,3) é: Matrix([[5], [4], [3]])\n",
            "A derivada direcional de Φ no ponto (1,2,3) em direção ao ponto (3,4,4) é: 7.0\n"
          ]
        }
      ]
    },
    {
      "cell_type": "code",
      "source": [
        "#Exercicio Prático 3.6\n",
        "#a)\n",
        "import sympy as sp\n",
        "\n",
        "x, y, z = sp.symbols('x y z')\n",
        "\n",
        "A = sp.Matrix([y*z, 4*x*y, y])\n",
        "\n",
        "dAdx = sp.diff(A[0], x)\n",
        "dAdy = sp.diff(A[1], y)\n",
        "dAdz = sp.diff(A[2], z)\n",
        "\n",
        "#divergência de A em (1,-2,3)\n",
        "div_A = dAdx + dAdy + dAdz\n",
        "ponto = (1, -2, 3)\n",
        "div_A_ponto = div_A.subs([(x, ponto[0]), (y, ponto[1]), (z, ponto[2])])\n",
        "\n",
        "print('A divergência de A no ponto (1,-2,3) é:', div_A_ponto.evalf())\n"
      ],
      "metadata": {
        "colab": {
          "base_uri": "https://localhost:8080/"
        },
        "id": "msJVFE33EZkp",
        "outputId": "f49a02c8-9163-4720-9bcd-45790f677569"
      },
      "execution_count": null,
      "outputs": [
        {
          "output_type": "stream",
          "name": "stdout",
          "text": [
            "A divergência de A no ponto (1,-2,3) é: 4.00000000000000\n"
          ]
        }
      ]
    },
    {
      "cell_type": "code",
      "source": [
        "#b)\n",
        "import sympy as sp\n",
        "\n",
        "rho, phi, z = sp.symbols('rho phi z')\n",
        "\n",
        "B_rho = rho*z*sp.sin(phi)\n",
        "B_phi = 3*rho*z**2*sp.cos(phi)\n",
        "B_z = 0\n",
        "B = sp.Matrix([B_rho, B_phi, B_z])\n",
        "\n",
        "dB_rho_drho = sp.diff(B_rho, rho)\n",
        "dB_phi_dphi = sp.diff(B_phi, phi)\n",
        "dB_z_dz = sp.diff(B_z, z)\n",
        "\n",
        "#divergência de B em (5, pi/2, 1)\n",
        "ponto = (5, sp.pi/2, 1)\n",
        "div_B = (1/rho) * (sp.diff(rho*B_rho, rho) + sp.diff(B_phi, phi) + sp.diff(B_z, z))\n",
        "div_B_ponto = div_B.subs([(rho, ponto[0]), (phi, ponto[1]), (z, ponto[2])])\n",
        "\n",
        "print('A divergência de B no ponto (5, pi/2, 1) é:', div_B_ponto.evalf(2))"
      ],
      "metadata": {
        "colab": {
          "base_uri": "https://localhost:8080/"
        },
        "id": "fh8nF2lQFNDZ",
        "outputId": "22658099-fab9-471b-c0a9-0131d397b69e"
      },
      "execution_count": null,
      "outputs": [
        {
          "output_type": "stream",
          "name": "stdout",
          "text": [
            "A divergência de B no ponto (5, pi/2, 1) é: -1.0\n"
          ]
        }
      ]
    },
    {
      "cell_type": "code",
      "source": [
        "#c)\n",
        "import sympy as sp\n",
        "\n",
        "r, theta, phi = sp.symbols('r theta phi')\n",
        "C = sp.Matrix([2*r*sp.cos(theta)*sp.cos(phi), sp.sqrt(r), 0])\n",
        "\n",
        "C_r = C.dot(sp.Matrix([sp.sin(theta)*sp.cos(phi), sp.sin(theta)*sp.sin(phi), sp.cos(theta)]))\n",
        "C_theta = C.dot(sp.Matrix([sp.cos(theta)*sp.cos(phi), sp.cos(theta)*sp.sin(phi), -sp.sin(theta)]))\n",
        "C_phi = C.dot(sp.Matrix([-sp.sin(phi), sp.cos(phi), 0]))\n",
        "\n",
        "ponto = (1, sp.pi/6, sp.pi/3)\n",
        "div_C = (1/r**2)*sp.diff(r**2*C_r, r) + (1/(r*sp.sin(theta)))*sp.diff(sp.sin(theta)*C_theta, theta) + (1/(r*sp.sin(theta)))*sp.diff(C_phi, phi)\n",
        "div_C_ponto = div_C.subs([(r, point[0]), (theta, point[1]), (phi, point[2])])\n",
        "\n",
        "print('A divergência de C no ponto (1, pi/6, pi/3) é:', div_C_ponto.evalf(2))"
      ],
      "metadata": {
        "colab": {
          "base_uri": "https://localhost:8080/"
        },
        "id": "-1Et9fhIGM9q",
        "outputId": "0f58e514-e391-4d1c-94a5-b517bd9e6bcf"
      },
      "execution_count": null,
      "outputs": [
        {
          "output_type": "stream",
          "name": "stdout",
          "text": [
            "A divergência de C no ponto (1, pi/6, pi/3) é: 0.046\n"
          ]
        }
      ]
    },
    {
      "cell_type": "code",
      "source": [
        "#Exercicio Pratico 3.7\n",
        "import sympy as sp\n",
        "\n",
        "rho, phi, z = sp.symbols('rho phi z')\n",
        "\n",
        "D = sp.Matrix([rho**2*sp.cos(phi)**2, 0, z*sp.sin(phi)])\n",
        "\n",
        "div_D = (1/rho)*sp.diff(rho*D[0], rho) + (1/rho)*sp.diff(D[1], phi) + sp.diff(D[2], z)\n",
        "\n",
        "#usando os pontos que foi dado, definimos a superficie fechada do cilindro em 3\n",
        "ci1 = rho - 4\n",
        "cil2 = z\n",
        "cil3 = z - 1\n",
        "\n",
        "normal1 = sp.Matrix([1, 0, 0])\n",
        "normal2 = sp.Matrix([0, sp.cos(phi), sp.sin(phi)])\n",
        "normal3 = sp.Matrix([0, -sp.cos(phi), -sp.sin(phi)])\n",
        "\n",
        "fluxo = sp.integrate(D.dot(normal1) * rho, (phi, 0, 2*sp.pi), (z, 0, 1), (rho, 4, 4)) \\\n",
        "     + sp.integrate(D.dot(normal2) * rho, (phi, 0, 2*sp.pi), (z, 0, 1), (rho, 0, 4)) \\\n",
        "     + sp.integrate(D.dot(normal3) * rho, (phi, 0, 2*sp.pi), (z, 0, 1), (rho, 0, 4))\n",
        "\n",
        "integral_div = sp.integrate(div_D * rho, (phi, 0, 2*sp.pi), (z, 0, 1), (rho, 0, 4))\n",
        "print('O fluxo de D sobre a superficie fechada é:')\n",
        "integral_div"
      ],
      "metadata": {
        "colab": {
          "base_uri": "https://localhost:8080/",
          "height": 57
        },
        "id": "dU-dZ8wEG8d6",
        "outputId": "a9632b18-26fe-42ae-c519-a0efb8c21e00"
      },
      "execution_count": null,
      "outputs": [
        {
          "output_type": "stream",
          "name": "stdout",
          "text": [
            "O fluxo de D sobre a superficie fechada é:\n"
          ]
        },
        {
          "output_type": "execute_result",
          "data": {
            "text/plain": [
              "64*pi"
            ],
            "text/latex": "$\\displaystyle 64 \\pi$"
          },
          "metadata": {},
          "execution_count": 143
        }
      ]
    },
    {
      "cell_type": "code",
      "source": [
        "#Exercicio Pratico 3.8\n",
        "# A= yzax + 4xyay + yaz em (1,-2,3)\n",
        "#achando o direcional:\n",
        "\n",
        "import sympy as sp\n",
        "from sympy.vector import curl\n",
        "x, y, z = sp.symbols('x y z')\n",
        "A = sp.Array([y*z, 4*x*y, y*z])\n",
        "\n",
        "curl_A = sp.Matrix([1, y, 4*y - z])\n",
        "curl_A.evalf(subs={y: -2, z: 3})"
      ],
      "metadata": {
        "colab": {
          "base_uri": "https://localhost:8080/",
          "height": 78
        },
        "id": "vSIz-f06KOH6",
        "outputId": "8f8b51af-8309-4781-a7aa-91d2a6181efc"
      },
      "execution_count": null,
      "outputs": [
        {
          "output_type": "execute_result",
          "data": {
            "text/plain": [
              "Matrix([\n",
              "[  1.0],\n",
              "[ -2.0],\n",
              "[-11.0]])"
            ],
            "text/latex": "$\\displaystyle \\left[\\begin{matrix}1.0\\\\-2.0\\\\-11.0\\end{matrix}\\right]$"
          },
          "metadata": {},
          "execution_count": 144
        }
      ]
    },
    {
      "cell_type": "code",
      "source": [
        "#Exercicio Pratico 3.9\n",
        "#no github nao tem o exercicio 3.2"
      ],
      "metadata": {
        "id": "CXJhUlBGKW1Y"
      },
      "execution_count": null,
      "outputs": []
    }
  ]
}